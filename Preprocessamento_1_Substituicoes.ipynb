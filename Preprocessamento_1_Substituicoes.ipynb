{
  "nbformat": 4,
  "nbformat_minor": 0,
  "metadata": {
    "colab": {
      "name": "Preprocessamento 1 - Substituicoes.ipynb",
      "provenance": [],
      "include_colab_link": true
    },
    "kernelspec": {
      "name": "python3",
      "display_name": "Python 3"
    }
  },
  "cells": [
    {
      "cell_type": "markdown",
      "metadata": {
        "id": "view-in-github",
        "colab_type": "text"
      },
      "source": [
        "<a href=\"https://colab.research.google.com/github/ijusplab/testing-colab-integration-1/blob/master/Preprocessamento_1_Substituicoes.ipynb\" target=\"_parent\"><img src=\"https://colab.research.google.com/assets/colab-badge.svg\" alt=\"Open In Colab\"/></a>"
      ]
    },
    {
      "cell_type": "markdown",
      "metadata": {
        "id": "s8gP4G5au0OA",
        "colab_type": "text"
      },
      "source": [
        "# Bem vindos todos! (inserção: teste)\n",
        "Vamos tentantar fazer um projeto em conjunto nesta planilha.\n",
        "\n",
        "NÃO PRECISA SABER PROGRAMAR NEM SER FORMADO EM DIREITO.\n",
        "\n",
        "# Breve explicação desta planilha\n",
        "Nesse arquivo vamos fazer o pré-processamento do texto antes de alimentá-lo à Inteligência Artificial.\n",
        "\n",
        "A IA é flexível o suficiente para entender o texto sem um pré-processamento. \n",
        "\n",
        "Porém, principalmente em um ambiente com dados limitados, entregar o texto mais \"mastigado\", pode aumentar nossa acurácia. É isso que tentaremos fazer aqui. \n",
        "\n",
        "Fiquem a vontade para acrescentar células com código ou texto. Para acrescentar uma célula com código, clique em **+ Code**. Para acrescentar uma célula com texto, clique em **+ Text**.\n",
        "\n",
        "Vai ficar mais fácil de entender conforme os exemplos.\n",
        "\n",
        "# Ao adicionar novas células, coloque antes seu nome\n",
        "Para colocar um texto comentário (que não será executado) em um código, basta colocar o símbolo # antes.\n",
        "\n",
        "# E depois desse pré-processamento, o que a IA fará com ele?\n",
        "A IA vai pegar um parágrafo e identificar quais são os dispositivos legais. \n",
        "\n",
        "Por exemplo: Ao entregarmos o texto \"O acórdão recorrido violou o artigo 5º da Constituição Federal\", a IA vai devolver \"artigo 5º da Constituição Federal\".\n",
        "\n",
        "# Comandos\n",
        "Talvez dê para entender o que cada comando faz pelos exemplos. Fiquem a vontade para perguntar.\n",
        "\n",
        "**Shift+Enter** faz o código rodar\n",
        "\n",
        "# Vamos começar simples\n",
        "Já já vamos incluir expressões regulares e outras tecnologias.\n",
        "\n",
        "Por enquanto, para democratizar e incluir o maior número de pessoas, vamos focar em substituição de palavras."
      ]
    },
    {
      "cell_type": "code",
      "metadata": {
        "id": "HHgZkvX0uusx",
        "colab_type": "code",
        "colab": {}
      },
      "source": [
        "# Fabio\n",
        "# Inicialmente, vamos incluir alguns exemplos. Selecione esta célula e Pressione Shift+Enter\n",
        "texto1 = \"No entanto, ao contrário do que constou na r sentença, o rol mencionado no art. 149, inc. III, da Carta Magna é SIM taxativo, e a faculdade conferida ao legislador pela Constituição se restringe à possibilidade de fixar alíquotas ad valorem OU específicas.\"\n",
        "texto2 = \"Isto porque norma infralegal não pode regular a matéria sob pena de ofensa aos princípios constitucionais da estrita legalidade e da tipicidade cerrada Constituição Federal art 5º, inc II, e art 150.\""
      ],
      "execution_count": 0,
      "outputs": []
    },
    {
      "cell_type": "code",
      "metadata": {
        "id": "FGaoAlz1uycS",
        "colab_type": "code",
        "outputId": "52000fe4-93d5-445b-ed8d-1341cdbd1bf4",
        "colab": {
          "base_uri": "https://localhost:8080/",
          "height": 54
        }
      },
      "source": [
        "# Fabio\n",
        "# Remover algumas abreviações para que a IA tenha que trabalhar com uma quantidade menor de sinônimos\n",
        "# Selecione esta célula e Pressione Shift+Enter. O resultado será impresso na tela, observe que as expressões inc. e art. foram substituídas.\n",
        "texto1 = texto1.replace(\" inc.\", \" inciso \")\n",
        "texto1 = texto1.replace(\" art.\", \" artigo \")\n",
        "print(texto1)"
      ],
      "execution_count": 0,
      "outputs": [
        {
          "output_type": "stream",
          "text": [
            "No entanto, ao contrário do que constou na r sentença, o rol mencionado no artigo  149, inciso  III, da Carta Magna é SIM taxativo, e a faculdade conferida ao legislador pela Constituição se restringe à possibilidade de fixar alíquotas ad valorem OU específicas.\n"
          ],
          "name": "stdout"
        }
      ]
    },
    {
      "cell_type": "code",
      "metadata": {
        "id": "vTAFKllL3TuM",
        "colab_type": "code",
        "colab": {}
      },
      "source": [
        "# Nome\n"
      ],
      "execution_count": 0,
      "outputs": []
    },
    {
      "cell_type": "code",
      "metadata": {
        "id": "MrbCGBGW4hNz",
        "colab_type": "code",
        "colab": {}
      },
      "source": [
        "# Nome\n"
      ],
      "execution_count": 0,
      "outputs": []
    },
    {
      "cell_type": "code",
      "metadata": {
        "id": "8kndbP8s4oI3",
        "colab_type": "code",
        "colab": {}
      },
      "source": [
        "# Nome\n"
      ],
      "execution_count": 0,
      "outputs": []
    },
    {
      "cell_type": "code",
      "metadata": {
        "id": "LOs7QnC14omX",
        "colab_type": "code",
        "colab": {}
      },
      "source": [
        "# Nome\n"
      ],
      "execution_count": 0,
      "outputs": []
    },
    {
      "cell_type": "code",
      "metadata": {
        "id": "pGzp7jhc4o0_",
        "colab_type": "code",
        "colab": {}
      },
      "source": [
        "# Nome\n"
      ],
      "execution_count": 0,
      "outputs": []
    },
    {
      "cell_type": "code",
      "metadata": {
        "id": "dggwD4H64pBv",
        "colab_type": "code",
        "colab": {}
      },
      "source": [
        "# Nome\n"
      ],
      "execution_count": 0,
      "outputs": []
    },
    {
      "cell_type": "code",
      "metadata": {
        "id": "xRGM24H84pNH",
        "colab_type": "code",
        "colab": {}
      },
      "source": [
        "# Nome\n"
      ],
      "execution_count": 0,
      "outputs": []
    },
    {
      "cell_type": "code",
      "metadata": {
        "id": "OpM2VovB4pXX",
        "colab_type": "code",
        "colab": {}
      },
      "source": [
        "# Nome\n"
      ],
      "execution_count": 0,
      "outputs": []
    },
    {
      "cell_type": "code",
      "metadata": {
        "id": "FHjcZfM04phX",
        "colab_type": "code",
        "colab": {}
      },
      "source": [
        "# Nome\n"
      ],
      "execution_count": 0,
      "outputs": []
    },
    {
      "cell_type": "code",
      "metadata": {
        "id": "4NxGu4954pqf",
        "colab_type": "code",
        "colab": {}
      },
      "source": [
        "# Nome\n"
      ],
      "execution_count": 0,
      "outputs": []
    },
    {
      "cell_type": "code",
      "metadata": {
        "id": "EyX8u5SA4p1H",
        "colab_type": "code",
        "colab": {}
      },
      "source": [
        "# Nome\n"
      ],
      "execution_count": 0,
      "outputs": []
    },
    {
      "cell_type": "code",
      "metadata": {
        "id": "JRPaJqUA4p-H",
        "colab_type": "code",
        "colab": {}
      },
      "source": [
        "# Nome\n"
      ],
      "execution_count": 0,
      "outputs": []
    },
    {
      "cell_type": "code",
      "metadata": {
        "id": "FUkTQC0-4qH3",
        "colab_type": "code",
        "colab": {}
      },
      "source": [
        "# Nome\n"
      ],
      "execution_count": 0,
      "outputs": []
    },
    {
      "cell_type": "code",
      "metadata": {
        "id": "Ok8UA_JE4qQn",
        "colab_type": "code",
        "colab": {}
      },
      "source": [
        "# Nome\n"
      ],
      "execution_count": 0,
      "outputs": []
    },
    {
      "cell_type": "code",
      "metadata": {
        "id": "H7D8yrN74qZ_",
        "colab_type": "code",
        "colab": {}
      },
      "source": [
        "# Nome\n"
      ],
      "execution_count": 0,
      "outputs": []
    }
  ]
}